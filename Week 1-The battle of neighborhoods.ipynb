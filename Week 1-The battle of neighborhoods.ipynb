{
    "cells": [
        {
            "cell_type": "markdown",
            "metadata": {
                "collapsed": true
            },
            "source": "# Coursera Capstone Project: Battle of Neighborhoods"
        },
        {
            "cell_type": "markdown",
            "metadata": {},
            "source": "## Introduction\n\nMunich is the capital and most populous city of Bavaria, the second most populous German federal state. With a population of around 1.5 million,it is the third-largest city in Germany, after Berlin and Hamburg, while being the most densely populated municipality in Germany (4,500 people per km\u00b2). The city's metropolitan region is home to 6 million people and it is divided into 25 boroughs. \n\nThe city is a global centre of art, science, technology, finance, publishing, culture, innovation, education, business, and tourism and enjoys a very high standard and quality of living, reaching first in Germany and third worldwide according to the 2018 Mercer survey, and being rated the world's most liveable city by the Monocle's Quality of Life Survey 2018. However, the city is also known for its thriving multicultural gastronomy that is represented by various ethnic cuisines along with the traditional Bavarian cuisine."
        },
        {
            "cell_type": "markdown",
            "metadata": {},
            "source": "## 1. Business Problem\n\nSome of the factors that are considered to play a significant role in the success of a restaurant are high traffic areas where consumers go for shopping and entertainment, where there are many shops and businesses and also places of touristic interest. However, there are also more factors that should be taken into account, for instance, the prices of property in each area, the population of the inhabitants as well as the presence of competitors ,that can play a decisive role in the success of a business in this field. Bearing all these in mind, the goal of this study is to suggest a location to anyone who is planning to open a Greek restaurant, that minimizes the risks of such an investment. It is known that Greek cuisine is very close both to the Italian and the Turkish cuisine. Bearing this in mind, the presence of Greek, Italian and Turkish restaurants in a specific neighborhood can, on the one hand, be an index of the preference of the inhabitants on this type of cuisine while on the other hand, it indicates that there will be heavy competition."
        },
        {
            "cell_type": "markdown",
            "metadata": {},
            "source": "#### The focus of this project is to analyze the existence of restaurants in general and more specifically the existance of Greek restaurants in the city of Munich and propose a suitable location for anyone planning to open a new Greek restaurant."
        },
        {
            "cell_type": "markdown",
            "metadata": {},
            "source": "## 2. Data Preparation"
        },
        {
            "cell_type": "markdown",
            "metadata": {},
            "source": "##### Data Requirements\n\n- The names of the 25 boroughs that Munich is divided in, along with the number of inhabitants and their total area. \n    - Source: www.opengov-muenchen.de\n \n- The coordinates of every borough.\n    - Source: The geocoder library\n    \n- Information about the venues and more specifically the restaurants in each borough.\n    - Source: Foursquare API\n  \n- The ratings of restaurants.\n    - Source: Foursquare API\n    \n###### Data cleaning\n\nThe data scraped from the Internet are always not in a convenient form so a few adaptations will be needed. There will be a detailed explanation of all the changes that will be conducted in every situation."
        },
        {
            "cell_type": "markdown",
            "metadata": {},
            "source": "## Approach\n\n- Collect the Munich Borough names from www.opengov-muenchen.de\n- Use the FourSquare API to find the venues for each borough.\n- Focus on the restaurants of each type in every borough.\n    - Firstly, the overall existence of restaurants will be checked in order to spot possible suitable locations.\n    - Secondly, I will focus on Greek, Italian and Turkish restaurants to get an idea of the existing competition. \n- Use the Foursquare API to compare the ratings of each Greek restaurant.\n- Visualize the results with maps and charts."
        },
        {
            "cell_type": "code",
            "execution_count": null,
            "metadata": {},
            "outputs": [],
            "source": ""
        }
    ],
    "metadata": {
        "kernelspec": {
            "display_name": "Python 3.6",
            "language": "python",
            "name": "python3"
        },
        "language_info": {
            "codemirror_mode": {
                "name": "ipython",
                "version": 3
            },
            "file_extension": ".py",
            "mimetype": "text/x-python",
            "name": "python",
            "nbconvert_exporter": "python",
            "pygments_lexer": "ipython3",
            "version": "3.6.9"
        }
    },
    "nbformat": 4,
    "nbformat_minor": 1
}